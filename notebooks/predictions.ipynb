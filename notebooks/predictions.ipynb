{
 "cells": [
  {
   "cell_type": "markdown",
   "metadata": {},
   "source": [
    "# Sales prediction\n",
    "### I have decided to use separate models for each target - weekly sales and 5 markdowns for each shop and department, and one model for total sales.\n",
    "### Each models is LGBM"
   ]
  },
  {
   "cell_type": "code",
   "execution_count": 1,
   "metadata": {},
   "outputs": [],
   "source": [
    "import pandas as pd\n",
    "import joblib\n",
    "from math import ceil\n",
    "import warnings\n",
    "warnings.filterwarnings('ignore')\n",
    "import seaborn as sns\n",
    "from sklearn.model_selection import train_test_split\n",
    "import datetime\n",
    "import matplotlib.pyplot as plt\n",
    "\n",
    "def get_week_of_month(dt):\n",
    "    \"\"\" Returns the week of the month for the specified date.\n",
    "    \"\"\"\n",
    "\n",
    "    first_day = dt.replace(day=1)\n",
    "\n",
    "    dom = dt.day\n",
    "    adjusted_dom = dom + first_day.weekday()\n",
    "\n",
    "    return int(ceil(adjusted_dom/7.0))"
   ]
  },
  {
   "cell_type": "code",
   "execution_count": 2,
   "metadata": {},
   "outputs": [],
   "source": [
    "#loading models\n",
    "ws_model = joblib.load('../models/lgbm_weekly_sales.pkl')\n",
    "ts_model = joblib.load('../models/lgbm_total_sales.pkl')\n",
    "m1_model = joblib.load('../models/lgbm_markdown1.pkl')\n",
    "m2_model = joblib.load('../models/lgbm_markdown2.pkl')\n",
    "m3_model = joblib.load('../models/lgbm_markdown3.pkl')\n",
    "m4_model = joblib.load('../models/lgbm_markdown4.pkl')\n",
    "m5_model = joblib.load('../models/lgbm_markdown5.pkl')\n",
    "\n",
    "col_pattern = joblib.load('../data/cols_pattern.pkl')\n",
    "ts_col_pattern = joblib.load('../data/ts_cols_pattern.pkl')\n"
   ]
  },
  {
   "cell_type": "markdown",
   "metadata": {},
   "source": [
    "## Checking predicted values for test set in 2012 year"
   ]
  },
  {
   "cell_type": "code",
   "execution_count": null,
   "metadata": {},
   "outputs": [],
   "source": [
    "df = pd.read_csv('../data/dummy_weekly_sales.csv')\n",
    "df = df[df.year_2012==1]\n",
    "X_test, y_test = df.drop('Weekly_Sales', axis=1), df[['Weekly_Sales']]\n",
    "y_pred = ws_model.predict(X_test)\n",
    "df_test = pd.concat([X_test.reset_index(drop = True), y_test.reset_index(drop=True), pd.DataFrame(y_pred, columns = ['prediction'])], axis = 1)\n",
    "def undummy(df, col_pattern):\n",
    "    return pd.DataFrame([x[-1] for x in df.filter(regex = col_pattern).idxmax(axis = 1).str.split('_')], columns = [col_pattern]).astype('int')\n",
    "\n",
    "dummy_variables = ['year', 'month', 'week_of_year', 'week_of_month', 'store', 'dept']\n",
    "undummied = df_test[['Weekly_Sales', 'prediction']].copy()\n",
    "for var in dummy_variables:\n",
    "    undummied[var] = undummy(df_test, var)\n",
    "sns.lineplot(data = undummied.loc[(undummied.store == 10)&(undummied.dept == 12)][['Weekly_Sales', 'prediction']])"
   ]
  },
  {
   "cell_type": "code",
   "execution_count": null,
   "metadata": {},
   "outputs": [
    {
     "data": {
      "text/plain": [
       "<AxesSubplot:>"
      ]
     },
     "execution_count": 59,
     "metadata": {},
     "output_type": "execute_result"
    },
    {
     "data": {
      "image/png": "[encoded data removed]",
      "text/plain": [
       "<Figure size 432x288 with 1 Axes>"
      ]
     },
     "metadata": {
      "needs_background": "light"
     },
     "output_type": "display_data"
    }
   ],
   "source": [
    "ts_model = joblib.load('../models/lgbm_total_sales.pkl')\n",
    "df = pd.read_csv('../data/dummy_total_sales.csv')\n",
    "df = df[df.year_2012==1]\n",
    "X_test, y_test = df.drop('total_sales', axis=1), df[['total_sales']]\n",
    "y_pred = ts_model.predict(X_test)\n",
    "def undummy(df, col_pattern):\n",
    "    return pd.DataFrame([x[-1] for x in df.filter(regex = col_pattern).idxmax(axis = 1).str.split('_')], columns = [col_pattern]).astype('int')\n",
    "\n",
    "df_test = pd.concat([X_test.reset_index(drop = True), y_test.reset_index(drop=True), pd.DataFrame(y_pred, columns = ['prediction'])], axis = 1)\n",
    "dummy_variables = ['year', 'month', 'week_of_year', 'week_of_month']\n",
    "undummied = df_test[['total_sales', 'prediction']].copy()\n",
    "for var in dummy_variables:\n",
    "    undummied[var] = undummy(df_test, var)\n",
    "sns.lineplot(data = undummied[['total_sales', 'prediction']])"
   ]
  },
  {
   "cell_type": "code",
   "execution_count": null,
   "metadata": {},
   "outputs": [],
   "source": [
    "#I am using same seed as in the training script, so splitting for train/test is the same. As the data for markdowns was much more shorter, I am using random split, not as above when my test set was 2012 year.\n",
    "df = pd.read_csv('../data/dummy_markdowns.csv')\n",
    "\n",
    "for idx, m_model in enumerate([m1_model, m2_model, m3_model, m4_model, m5_model]):\n",
    "        markdown = f'MarkDown{idx+1}'\n",
    "        X_train, X_test, y_train, y_test = train_test_split(df.iloc[:,:-5], df[[markdown]], test_size=0.2, random_state=123)\n",
    "        y_pred = m_model.predict(X_test)\n",
    "        df_test = pd.concat([X_test.reset_index(drop = True), y_test.reset_index(drop=True), pd.DataFrame(y_pred, columns = ['prediction'])], axis = 1)\n",
    "        dummy_variables = ['year', 'month', 'week_of_year', 'week_of_month', 'store', 'dept']\n",
    "        undummied = df_test[[markdown,'prediction']].copy()\n",
    "        for var in dummy_variables:\n",
    "                undummied[var] = undummy(df_test, var)\n",
    "\n",
    "        sns.lineplot(data = undummied.loc[(undummied.store == 10)&(undummied.dept == 50)][[markdown, 'prediction']])\n",
    "        plt.show()"
   ]
  },
  {
   "cell_type": "code",
   "execution_count": 53,
   "metadata": {},
   "outputs": [],
   "source": [
    "def predict_weekly_sales(year, month, day, store, dept):\n",
    "    try:\n",
    "        datetime.datetime(year=year,month=month,day=day)\n",
    "    except:\n",
    "        print('Invalid date')\n",
    "        return\n",
    "    date = pd.to_datetime(f'{day}/{month}/{year}', format='%d/%m/%Y')\n",
    "    year = date.year\n",
    "    month = date.month\n",
    "    week_of_year = date.weekofyear\n",
    "    week_of_month = get_week_of_month(date)\n",
    "    #global dct\n",
    "    dct = {f'year_{year}':1, f'month_{month}':1, f'week_of_year_{week_of_year}':1, f'week_of_month_{week_of_month}':1, f'store_{store}':1, f'dept_{dept}':1}\n",
    "    df = pd.DataFrame.from_dict(dct, orient='index').T\n",
    "    df[list(set(col_pattern)-set(dct.keys()))] = 0\n",
    "    df = df.reindex(sorted(df.columns), axis=1)\n",
    "\n",
    "    ts_dct = {f'year_{year}':1, f'month_{month}':1, f'week_of_year_{week_of_year}':1, f'week_of_month_{week_of_month}':1}\n",
    "    ts_df = pd.DataFrame.from_dict(ts_dct, orient='index').T\n",
    "    ts_df[list(set(ts_col_pattern)-set(ts_dct.keys()))] = 0\n",
    "    ts_df = ts_df.reindex(sorted(ts_df.columns), axis=1)\n",
    "\n",
    "    prediction = {\n",
    "        'weekly_sales':int(ws_model.predict(df.values)[0]),\n",
    "        'total_sales':int(ts_model.predict(ts_df.values)[0]),\n",
    "        'markdown1':int(m1_model.predict(df.values)[0]),\n",
    "        'markdown2':int(m2_model.predict(df.values)[0]),\n",
    "        'markdown3':int(m3_model.predict(df.values)[0]),\n",
    "        'markdown4':int(m4_model.predict(df.values)[0]),\n",
    "        'markdown5':int(m5_model.predict(df.values)[0])\n",
    "        }\n",
    "\n",
    "\n",
    "    return prediction"
   ]
  },
  {
   "cell_type": "code",
   "execution_count": 1,
   "metadata": {},
   "outputs": [],
   "source": [
    "year = 2013\n",
    "month = 12\n",
    "day = 30\n",
    "store = 1\n",
    "dept = 1"
   ]
  },
  {
   "cell_type": "code",
   "execution_count": 2,
   "metadata": {},
   "outputs": [],
   "source": [
    "#Models will predict 7 values - weekly sales and markdowns for store and department in given date and total sales."
   ]
  },
  {
   "cell_type": "code",
   "execution_count": 3,
   "metadata": {},
   "outputs": [
    {
     "ename": "NameError",
     "evalue": "name 'predict_weekly_sales' is not defined",
     "output_type": "error",
     "traceback": [
      "\u001b[0;31m---------------------------------------------------------------------------\u001b[0m",
      "\u001b[0;31mNameError\u001b[0m                                 Traceback (most recent call last)",
      "\u001b[1;32m/Users/jakubpietraszek/python/other_tasks/forecasting/notebooks/4.0_predictions.ipynb Cell 11\u001b[0m in \u001b[0;36m<cell line: 1>\u001b[0;34m()\u001b[0m\n\u001b[0;32m----> <a href='vscode-notebook-cell:/Users/jakubpietraszek/python/other_tasks/forecasting/notebooks/4.0_predictions.ipynb#X12sZmlsZQ%3D%3D?line=0'>1</a>\u001b[0m predict_weekly_sales(year, month, day, store, dept)\n",
      "\u001b[0;31mNameError\u001b[0m: name 'predict_weekly_sales' is not defined"
     ]
    }
   ],
   "source": [
    "predict_weekly_sales(year, month, day, store, dept)"
   ]
  },
  {
   "cell_type": "code",
   "execution_count": null,
   "metadata": {},
   "outputs": [],
   "source": []
  }
 ],
 "metadata": {
  "kernelspec": {
   "display_name": "Python 3 (ipykernel)",
   "language": "python",
   "name": "python3"
  },
  "language_info": {
   "codemirror_mode": {
    "name": "ipython",
    "version": 3
   },
   "file_extension": ".py",
   "mimetype": "text/x-python",
   "name": "python",
   "nbconvert_exporter": "python",
   "pygments_lexer": "ipython3",
   "version": "3.10.8"
  },
  "vscode": {
   "interpreter": {
    "hash": "e19871084315d457d0f754998c03c0d466a6041aab7f482829075e609f3fd531"
   }
  }
 },
 "nbformat": 4,
 "nbformat_minor": 4
}
